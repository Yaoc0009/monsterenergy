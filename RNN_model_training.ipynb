{
  "nbformat": 4,
  "nbformat_minor": 0,
  "metadata": {
    "colab": {
      "name": "RNN.ipynb",
      "provenance": [],
      "collapsed_sections": [],
      "authorship_tag": "ABX9TyMo9U5FUZD6/t1NNnOw3fam",
      "include_colab_link": true
    },
    "kernelspec": {
      "name": "python3",
      "display_name": "Python 3"
    },
    "accelerator": "GPU"
  },
  "cells": [
    {
      "cell_type": "markdown",
      "metadata": {
        "id": "view-in-github",
        "colab_type": "text"
      },
      "source": [
        "<a href=\"https://colab.research.google.com/github/Yaoc0009/monsterenergy/blob/main/RNN_model_training.ipynb\" target=\"_parent\"><img src=\"https://colab.research.google.com/assets/colab-badge.svg\" alt=\"Open In Colab\"/></a>"
      ]
    },
    {
      "cell_type": "code",
      "metadata": {
        "id": "zbjITrwv27rB",
        "colab": {
          "base_uri": "https://localhost:8080/"
        },
        "outputId": "33adf9b7-7271-4f2c-d097-97e7216f2728"
      },
      "source": [
        "import tensorflow as tf\r\n",
        "from tensorflow.keras.models import Sequential\r\n",
        "from tensorflow.keras.layers import Dense, Dropout, LSTM, Flatten\r\n",
        "\r\n",
        "mnist = tf.keras.datasets.mnist\r\n",
        "(x_train, y_train),(x_test, y_test) = mnist.load_data()\r\n",
        "x_train, x_test = x_train / 255.0, x_test / 255.0\r\n",
        "\r\n",
        "print(x_train.shape)\r\n",
        "print(x_train[0].shape)\r\n"
      ],
      "execution_count": 1,
      "outputs": [
        {
          "output_type": "stream",
          "text": [
            "Downloading data from https://storage.googleapis.com/tensorflow/tf-keras-datasets/mnist.npz\n",
            "11493376/11490434 [==============================] - 0s 0us/step\n",
            "(60000, 28, 28)\n",
            "(28, 28)\n"
          ],
          "name": "stdout"
        }
      ]
    },
    {
      "cell_type": "code",
      "metadata": {
        "colab": {
          "base_uri": "https://localhost:8080/"
        },
        "id": "OAK9hieSO98Y",
        "outputId": "e5715e4b-f3d7-4727-d441-c544c78762ff"
      },
      "source": [
        "model = tf.keras.Sequential([\r\n",
        "  # Flatten(input_shape=(28,28)),\r\n",
        "  LSTM(128, input_shape = (28,28), return_sequences=True),\r\n",
        "  Dropout(0.2),\r\n",
        "\r\n",
        "  LSTM(128),\r\n",
        "  Dropout(0.2),\r\n",
        "\r\n",
        "  Dense(32, activation = 'relu'),\r\n",
        "  Dropout(0.2),\r\n",
        "\r\n",
        "  Dense(10, activation='softmax')\r\n",
        "])\r\n",
        "\r\n",
        "opt = tf.keras.optimizers.Adam(learning_rate=1e-3, beta_1=1e-5)\r\n",
        "\r\n",
        "model.compile(loss='sparse_categorical_crossentropy',\r\n",
        "              optimizer=opt,\r\n",
        "              metrics=['accuracy'])\r\n",
        "\r\n",
        "model.fit(x_train, y_train, epochs=3, validation_data=(x_test,y_test))"
      ],
      "execution_count": 2,
      "outputs": [
        {
          "output_type": "stream",
          "text": [
            "Epoch 1/3\n",
            "1875/1875 [==============================] - 12s 6ms/step - loss: 0.3894 - accuracy: 0.8788 - val_loss: 0.1237 - val_accuracy: 0.9628\n",
            "Epoch 2/3\n",
            "1875/1875 [==============================] - 10s 6ms/step - loss: 0.1200 - accuracy: 0.9682 - val_loss: 0.0700 - val_accuracy: 0.9794\n",
            "Epoch 3/3\n",
            "1875/1875 [==============================] - 10s 6ms/step - loss: 0.0874 - accuracy: 0.9768 - val_loss: 0.0568 - val_accuracy: 0.9829\n"
          ],
          "name": "stdout"
        },
        {
          "output_type": "execute_result",
          "data": {
            "text/plain": [
              "<tensorflow.python.keras.callbacks.History at 0x7f798064e588>"
            ]
          },
          "metadata": {
            "tags": []
          },
          "execution_count": 2
        }
      ]
    },
    {
      "cell_type": "code",
      "metadata": {
        "id": "W4o8336iO-KS"
      },
      "source": [
        ""
      ],
      "execution_count": null,
      "outputs": []
    }
  ]
}